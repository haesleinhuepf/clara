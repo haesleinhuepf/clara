{
 "cells": [
  {
   "cell_type": "code",
   "execution_count": 1,
   "id": "cc644881-3cfc-45c8-99b1-19ebbaa6e325",
   "metadata": {},
   "outputs": [],
   "source": [
    "import stackview\n",
    "from skimage.io import imread"
   ]
  },
  {
   "cell_type": "code",
   "execution_count": 2,
   "id": "202b7e74-8f8a-4279-8f96-4a9d2c1b3288",
   "metadata": {},
   "outputs": [],
   "source": [
    "image = imread(\"Haase_MRT_tfl3d1.tif\")"
   ]
  },
  {
   "cell_type": "code",
   "execution_count": 3,
   "id": "a983df01-3dfb-4839-acfb-98b15ec1505e",
   "metadata": {},
   "outputs": [
    {
     "data": {
      "application/vnd.jupyter.widget-view+json": {
       "model_id": "f6961ad18a9c42a598c02533cfadcf35",
       "version_major": 2,
       "version_minor": 0
      },
      "text/plain": [
       "VBox(children=(HBox(children=(VBox(children=(ImageWidget(height=256, width=256),)),)), IntSlider(value=96, des…"
      ]
     },
     "execution_count": 3,
     "metadata": {},
     "output_type": "execute_result"
    }
   ],
   "source": [
    "stackview.picker(image)"
   ]
  },
  {
   "cell_type": "code",
   "execution_count": null,
   "id": "0fc40510-e890-4f87-ad7b-e866fac927a6",
   "metadata": {},
   "outputs": [],
   "source": []
  }
 ],
 "metadata": {
  "kernelspec": {
   "display_name": "bio39",
   "language": "python",
   "name": "bio39"
  },
  "language_info": {
   "codemirror_mode": {
    "name": "ipython",
    "version": 3
   },
   "file_extension": ".py",
   "mimetype": "text/x-python",
   "name": "python",
   "nbconvert_exporter": "python",
   "pygments_lexer": "ipython3",
   "version": "3.9.18"
  }
 },
 "nbformat": 4,
 "nbformat_minor": 5
}
