{
 "cells": [
  {
   "cell_type": "code",
   "execution_count": null,
   "id": "f577ad2c-0e64-46c6-9957-81f7cd78d942",
   "metadata": {},
   "outputs": [],
   "source": [
    "from skimage.io import imread\n",
    "import stackview\n",
    "import pyclesperanto_prototype as cle"
   ]
  },
  {
   "cell_type": "code",
   "execution_count": null,
   "id": "adff92e8-8a05-4224-b924-454f2ef55df5",
   "metadata": {},
   "outputs": [],
   "source": [
    "cle.available_device_names()"
   ]
  },
  {
   "cell_type": "code",
   "execution_count": null,
   "id": "c8e35d55-de52-4bab-8d6c-6a5e6472885a",
   "metadata": {},
   "outputs": [],
   "source": [
    "image = imread(\"nuclei.tif\")"
   ]
  },
  {
   "cell_type": "code",
   "execution_count": null,
   "id": "b836f8d6-c6af-49c0-bcac-6dd861c586ea",
   "metadata": {},
   "outputs": [],
   "source": [
    "stackview.insight(image)"
   ]
  },
  {
   "cell_type": "code",
   "execution_count": null,
   "id": "df1d8392-9c09-48d6-8039-8c402ff3e852",
   "metadata": {},
   "outputs": [],
   "source": [
    "labels = cle.voronoi_otsu_labeling(image, spot_sigma=9)\n",
    "\n",
    "labels"
   ]
  },
  {
   "cell_type": "code",
   "execution_count": null,
   "id": "438861dd-6b9a-4662-a8cc-f35121d9c6b4",
   "metadata": {},
   "outputs": [],
   "source": [
    "stackview.curtain(image, labels)"
   ]
  },
  {
   "cell_type": "code",
   "execution_count": null,
   "id": "169da622-a33c-4095-9157-0b1eadbb799c",
   "metadata": {},
   "outputs": [],
   "source": []
  }
 ],
 "metadata": {
  "kernelspec": {
   "display_name": "devbio-napari_v0.2.9",
   "language": "python",
   "name": "devbio-napari_v0.2.9"
  },
  "language_info": {
   "codemirror_mode": {
    "name": "ipython",
    "version": 3
   },
   "file_extension": ".py",
   "mimetype": "text/x-python",
   "name": "python",
   "nbconvert_exporter": "python",
   "pygments_lexer": "ipython3",
   "version": "3.9.18"
  }
 },
 "nbformat": 4,
 "nbformat_minor": 5
}
